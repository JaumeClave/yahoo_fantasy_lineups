{
 "cells": [
  {
   "cell_type": "markdown",
   "metadata": {
    "collapsed": true,
    "pycharm": {
     "name": "#%% md\n"
    }
   },
   "source": [
    "# Start Active Players: Automating My Daily Lineups"
   ]
  },
  {
   "cell_type": "code",
   "execution_count": 18,
   "outputs": [],
   "source": [
    "# Import modules\n",
    "from selenium import webdriver\n",
    "from selenium.webdriver import Chrome\n",
    "import time"
   ],
   "metadata": {
    "collapsed": false,
    "pycharm": {
     "name": "#%%\n"
    }
   }
  },
  {
   "cell_type": "code",
   "execution_count": 19,
   "outputs": [],
   "source": [
    "# Chrome arguments\n",
    "CHROME_USER_DATA_DIRECTORY_ARGUMENT = r\"user-data-dir=C:\\Users\\Jaume\\AppData\\Local\\Google\\Chrome\" \\\n",
    "                                      r\"\\User Data\\Python\"\n",
    "CHROME_DISABLE_NOTIFICATION_ARGUMENT = \"--disable-notifications\"\n",
    "CHROME_EXECUTABLE_PATH = r\"C:\\Users\\Jaume\\Documents\\Python Projects\\yahoo_fantasy_lineups\\chromedriver.exe\""
   ],
   "metadata": {
    "collapsed": false,
    "pycharm": {
     "name": "#%%\n"
    }
   }
  },
  {
   "cell_type": "code",
   "execution_count": 20,
   "outputs": [
    {
     "name": "stderr",
     "output_type": "stream",
     "text": [
      "<ipython-input-20-f83a5bec250e>:9: DeprecationWarning: use options instead of chrome_options\n",
      "  driver = Chrome(CHROME_EXECUTABLE_PATH, chrome_options = options)\n"
     ]
    }
   ],
   "source": [
    "# Load Profile\n",
    "options = webdriver.ChromeOptions()\n",
    "\n",
    "# Load Chrome profile and download directory\n",
    "options.add_argument(CHROME_USER_DATA_DIRECTORY_ARGUMENT)\n",
    "options.add_argument(CHROME_DISABLE_NOTIFICATION_ARGUMENT)\n",
    "\n",
    "# Chrome with profile\n",
    "driver = Chrome(CHROME_EXECUTABLE_PATH, chrome_options = options)"
   ],
   "metadata": {
    "collapsed": false,
    "pycharm": {
     "name": "#%%\n"
    }
   }
  },
  {
   "cell_type": "code",
   "execution_count": 21,
   "outputs": [],
   "source": [
    "# Load \"My Team\" page\n",
    "MY_TEAM_URL = \"https://basketball.fantasysports.yahoo.com/nba/55374/6\"\n",
    "\n",
    "# Get URL\n",
    "driver.get(MY_TEAM_URL)\n",
    "time.sleep(1)"
   ],
   "metadata": {
    "collapsed": false,
    "pycharm": {
     "name": "#%%\n"
    }
   }
  },
  {
   "cell_type": "code",
   "execution_count": 22,
   "outputs": [],
   "source": [
    "# Click \"Start Active Players\" button\n",
    "START_ACTIVE_PLAYERS_BUTTON_XPATH_TEXT = \"//*[(text()='Start Active Players')]\"\n",
    "\n",
    "# Find and click\n",
    "start_active_players_button = driver.find_element_by_xpath(START_ACTIVE_PLAYERS_BUTTON_XPATH_TEXT)\n",
    "start_active_players_button.click()\n",
    "time.sleep(1)"
   ],
   "metadata": {
    "collapsed": false,
    "pycharm": {
     "name": "#%%\n"
    }
   }
  },
  {
   "cell_type": "code",
   "execution_count": 23,
   "outputs": [],
   "source": [
    "# Click \"Rest of Week Start\" button\n",
    "REST_OF_WEEK_START_BUTTON_XPATH_TEXT = \"//*[(text()='Start')]\"\n",
    "\n",
    "# Find and click\n",
    "start_rest_of_week_button = driver.find_element_by_xpath(REST_OF_WEEK_START_BUTTON_XPATH_TEXT)\n",
    "start_rest_of_week_button.click()"
   ],
   "metadata": {
    "collapsed": false,
    "pycharm": {
     "name": "#%%\n"
    }
   }
  },
  {
   "cell_type": "code",
   "execution_count": 36,
   "outputs": [],
   "source": [
    "# Sleep time (seconds)\n",
    "SLEEP_SECONDS = 1\n",
    "\n",
    "def open_yahoo_my_team():\n",
    "    \"\"\"\n",
    "    Function opens the Yahoo \"My Team\" web page. ChromeDriver options are loaded which facilitate\n",
    "    the Yahoo login. The driver is returned.\n",
    "    :return driver: ChromeDriver used to open Yahoo session\n",
    "    \"\"\"\n",
    "    # Load Profile\n",
    "    options = webdriver.ChromeOptions()\n",
    "\n",
    "    # Load Chrome profile and download directory\n",
    "    options.add_argument(CHROME_USER_DATA_DIRECTORY_ARGUMENT)\n",
    "    options.add_argument(CHROME_DISABLE_NOTIFICATION_ARGUMENT)\n",
    "\n",
    "    # Chrome with profile\n",
    "    driver = Chrome(CHROME_EXECUTABLE_PATH, chrome_options = options)\n",
    "\n",
    "    driver.get(MY_TEAM_URL)\n",
    "    time.sleep(SLEEP_SECONDS)\n",
    "\n",
    "    return driver\n",
    "\n",
    "def click_button_yahoo_my_team(driver, button_xpath_text):\n",
    "    \"\"\"\n",
    "    Function finds a webelement by XPATH and automatically clicks it.\n",
    "    :param driver: ChromeDriver used to open Yahoo session\n",
    "    :param button_xpath_text: XPATH of desired element\n",
    "    :return driver: ChromeDriver used to open Yahoo session\n",
    "    \"\"\"\n",
    "    webelement_button = driver.find_element_by_xpath(button_xpath_text)\n",
    "    webelement_button.click()\n",
    "    time.sleep(SLEEP_SECONDS)\n",
    "\n",
    "    return driver"
   ],
   "metadata": {
    "collapsed": false,
    "pycharm": {
     "name": "#%%\n"
    }
   }
  },
  {
   "cell_type": "code",
   "execution_count": 40,
   "outputs": [
    {
     "name": "stderr",
     "output_type": "stream",
     "text": [
      "<ipython-input-36-b2b85705d337>:17: DeprecationWarning: use options instead of chrome_options\n",
      "  driver = Chrome(CHROME_EXECUTABLE_PATH, chrome_options = options)\n"
     ]
    }
   ],
   "source": [
    "# Combining the functions\n",
    "def set_daily_yahoo_lineups():\n",
    "    \"\"\"\n",
    "    Function ties the entire process. It first logins to Yahoo via a ChromeDriver. It then finds\n",
    "    the buttons required to be clicked to activate starting players.\n",
    "    :return: None\n",
    "    \"\"\"\n",
    "    driver = open_yahoo_my_team()\n",
    "    click_button_yahoo_my_team(driver, START_ACTIVE_PLAYERS_BUTTON_XPATH_TEXT)\n",
    "    click_button_yahoo_my_team(driver, REST_OF_WEEK_START_BUTTON_XPATH_TEXT)\n",
    "\n",
    "    return None\n",
    "\n",
    "# Testing the function\n",
    "set_daily_yahoo_lineups()"
   ],
   "metadata": {
    "collapsed": false,
    "pycharm": {
     "name": "#%%\n"
    }
   }
  },
  {
   "cell_type": "code",
   "execution_count": 42,
   "outputs": [
    {
     "name": "stderr",
     "output_type": "stream",
     "text": [
      "<ipython-input-42-1ad3cae6affb>:28: DeprecationWarning: use options instead of chrome_options\n",
      "  driver = Chrome(CHROME_EXECUTABLE_PATH, chrome_options = options)\n"
     ]
    }
   ],
   "source": [
    "# Putting it all together\n",
    "CHROME_USER_DATA_DIRECTORY_ARGUMENT = r\"user-data-dir=C:\\Users\\Jaume\\AppData\\Local\\Google\\Chrome\" \\\n",
    "                                      r\"\\User Data\\Python\"\n",
    "CHROME_DISABLE_NOTIFICATION_ARGUMENT = \"--disable-notifications\"\n",
    "CHROME_EXECUTABLE_PATH = r\"C:\\Users\\Jaume\\Documents\\Python Projects\\yahoo_fantasy_lineups\\chromedriver.exe\"\n",
    "\n",
    "MY_TEAM_URL = \"https://basketball.fantasysports.yahoo.com/nba/55374/6\"\n",
    "\n",
    "SLEEP_SECONDS = 1\n",
    "\n",
    "START_ACTIVE_PLAYERS_BUTTON_XPATH_TEXT = \"//*[(text()='Start Active Players')]\"\n",
    "REST_OF_WEEK_START_BUTTON_XPATH_TEXT = \"//*[(text()='Start')]\"\n",
    "\n",
    "\n",
    "def open_yahoo_my_team():\n",
    "    \"\"\"\n",
    "    Function opens the Yahoo \"My Team\" web page. ChromeDriver options are loaded which facilitate\n",
    "    the Yahoo login. The driver is returned.\n",
    "    :return driver: ChromeDriver used to open Yahoo session\n",
    "    \"\"\"\n",
    "    # Load Profile\n",
    "    options = webdriver.ChromeOptions()\n",
    "\n",
    "    # Load Chrome profile and download directory\n",
    "    options.add_argument(CHROME_USER_DATA_DIRECTORY_ARGUMENT)\n",
    "    options.add_argument(CHROME_DISABLE_NOTIFICATION_ARGUMENT)\n",
    "\n",
    "    # Chrome with profile\n",
    "    driver = Chrome(CHROME_EXECUTABLE_PATH, chrome_options = options)\n",
    "\n",
    "    driver.get(MY_TEAM_URL)\n",
    "    time.sleep(SLEEP_SECONDS)\n",
    "\n",
    "    return driver\n",
    "\n",
    "\n",
    "def click_button_yahoo_my_team(driver, button_xpath_text):\n",
    "    \"\"\"\n",
    "    Function finds a webelement by XPATH and automatically clicks it.\n",
    "    :param driver: ChromeDriver used to open Yahoo session\n",
    "    :param button_xpath_text: XPATH of desired element\n",
    "    :return driver: ChromeDriver used to open Yahoo session\n",
    "    \"\"\"\n",
    "    webelement_button = driver.find_element_by_xpath(button_xpath_text)\n",
    "    webelement_button.click()\n",
    "    time.sleep(SLEEP_SECONDS)\n",
    "\n",
    "    return driver\n",
    "\n",
    "\n",
    "def set_daily_yahoo_lineups():\n",
    "    \"\"\"\n",
    "    Function ties the entire process. It first logins to Yahoo via a ChromeDriver. It then finds\n",
    "    the buttons required to be clicked to activate starting players.\n",
    "    :return: None\n",
    "    \"\"\"\n",
    "    driver = open_yahoo_my_team()\n",
    "    click_button_yahoo_my_team(driver, START_ACTIVE_PLAYERS_BUTTON_XPATH_TEXT)\n",
    "    click_button_yahoo_my_team(driver, REST_OF_WEEK_START_BUTTON_XPATH_TEXT)\n",
    "\n",
    "    return None\n",
    "\n",
    "\n",
    "if __name__ == \"__main__\":\n",
    "    driver = open_yahoo_my_team()\n",
    "    click_button_yahoo_my_team(driver, START_ACTIVE_PLAYERS_BUTTON_XPATH_TEXT)\n",
    "    click_button_yahoo_my_team(driver, REST_OF_WEEK_START_BUTTON_XPATH_TEXT)\n"
   ],
   "metadata": {
    "collapsed": false,
    "pycharm": {
     "name": "#%%\n"
    }
   }
  }
 ],
 "metadata": {
  "kernelspec": {
   "display_name": "Python 3",
   "language": "python",
   "name": "python3"
  },
  "language_info": {
   "codemirror_mode": {
    "name": "ipython",
    "version": 2
   },
   "file_extension": ".py",
   "mimetype": "text/x-python",
   "name": "python",
   "nbconvert_exporter": "python",
   "pygments_lexer": "ipython2",
   "version": "2.7.6"
  }
 },
 "nbformat": 4,
 "nbformat_minor": 0
}