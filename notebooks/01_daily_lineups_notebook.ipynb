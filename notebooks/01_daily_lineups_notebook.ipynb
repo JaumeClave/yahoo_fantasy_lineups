{
 "cells": [
  {
   "cell_type": "markdown",
   "metadata": {
    "collapsed": true,
    "pycharm": {
     "name": "#%% md\n"
    }
   },
   "source": [
    "# Automating My Daily Lineups: Start Active Players\n",
    "Automatically setting my NBA Fantasy lineups by Jaume Clave\n",
    "\n",
    "December 19, 2020"
   ]
  },
  {
   "cell_type": "markdown",
   "source": [
    "I've been playing Fantasy NBA for 5 years now. Before the real NBA season starts we get a group\n",
    "of friends to join our 12 team, 9cat h2h NBA Fantasy league on Yahoo. It's good fun to build out\n",
    "a team and see how players perform throughout the year.\n",
    "\n",
    "It can get quite competitive between the team owners and leagues in the past have been won on\n",
    "small margins. Each owner tries to get as many advantages as they can. People set up Twitter\n",
    "alerts so that they are first to know about an injury or trade. Team gamble on *sleepers* in hope\n",
    " that a waiver wire add can explode into a huge signing.\n",
    "\n",
    "One of the most commons ways of losing a h2h match up is forgetting to set your lineups.\n",
    "Unfortunately, if you leave one of your players on the bench, you miss out on all the points that\n",
    " player makes for you. This often happens as this is something that needs to be done and checked\n",
    " daily. Life gets in the way and one forgets.\n",
    "\n",
    "This project aims to fix this. This project creates a script using Selenium that logs into my\n",
    "Yahoo Fantasy and automatically sets my players as *active*. Meaning their in-game performances\n",
    "will count towards my totals. This script will be executed daily using Windows Task Scheduler."
   ],
   "metadata": {
    "collapsed": false,
    "pycharm": {
     "name": "#%% md\n"
    }
   }
  },
  {
   "cell_type": "markdown",
   "source": [
    "## Index\n",
    "\n",
    "[Selenium](#Selenium) <br>\n",
    "i. [ChromeDriver](#ChromeDriver) <br>\n",
    "ii. [Finding Elements With Selenium](Finding-Elements-With-Selenium)\n",
    "\n",
    "[Python Scripting](#Python-Scripting) <br>\n",
    "i. [Windows Task Scheduler](#Windows-Task-Scheduler) <br>\n",
    "ii. [if \\_\\_name\\_\\_ == \"\\_\\_main\\_\\_\":](#if-\\_\\_name\\_\\_-==-\"\\_\\_main\\_\\_\":)\n",
    "\n",
    "[Conclusion](#Conclusion)\n",
    "\n",
    "[Further Reading](#Further-Reading)\n"
   ],
   "metadata": {
    "collapsed": false,
    "pycharm": {
     "name": "#%% md\n"
    }
   }
  },
  {
   "cell_type": "markdown",
   "source": [
    "## Selenium\n",
    "Selenium WebDriver is one of the most popular tools for Web UI Automation. The selenium package\n",
    "is  used to automate web browser interaction from Python. Web UI Automation refers to the\n",
    "automatic  execution of the actions preformed in a web browser window like navigating to a\n",
    "website, filing forms that deal with input to text boxes, with radio buttons, downloading of\n",
    "images  and files, submission of forms and general website interactions. With Selenium a user is\n",
    " able to automate all this stuff; automate the boring stuff!\n",
    "\n",
    "This section will use Selenium to automate the three steps involved in setting a daily lineups:\n",
    "\n",
    "    1. Authenticate on Yahoo and navigate to the \"My Team\" page\n",
    "    2. Find the \"Start Active Players\" button and click it\n",
    "    3. Find the \"Start\" button in the popup and click it\n",
    "\n",
    "Each step will be broken down and visualised."
   ],
   "metadata": {
    "collapsed": false,
    "pycharm": {
     "name": "#%% md\n"
    }
   }
  },
  {
   "cell_type": "code",
   "execution_count": 1,
   "outputs": [],
   "source": [
    "# Import modules\n",
    "from selenium import webdriver\n",
    "from selenium.webdriver import Chrome\n",
    "import time\n",
    "import warnings\n",
    "warnings.filterwarnings('ignore')"
   ],
   "metadata": {
    "collapsed": false,
    "pycharm": {
     "name": "#%%\n"
    }
   }
  },
  {
   "cell_type": "markdown",
   "source": [
    "### ChromeDriver\n",
    "In order to automate with selenium on Google Chrome, chromedriver.exe must be downloaded because\n",
    "a  path to this needs to be executable on your computer. WebDriver is an open source tool for\n",
    "automated testing of webapps across many browsers. It provides capabilities for navigating to web\n",
    "  pages, user input, JavaScript execution, and more. ChromeDriver is a standalone server that\n",
    "  implements the W3C WebDriver standard.\n",
    "\n",
    "The first step is to load the Yahoo My Team page using the chromedriver. Yahoo requires you to\n",
    "authenticate and login when using the service on a new browser/device for security purposes.\n",
    "This login was completed manually once on the ChromeDriver. From then on, because a user profile\n",
    "is loaded using the 'user-data-dir=\"\"' argument this will not have to be repeated. The page can\n",
    "now be accessed using the .get() method which loads the URL. The time.sleep() function is used to\n",
    " add delay in the execution of the program. It used to halt the execution of the program for\n",
    " given time in seconds and therefore give the web page enough time to load before moving on to\n",
    " the next line of code.\n"
   ],
   "metadata": {
    "collapsed": false,
    "pycharm": {
     "name": "#%% md\n"
    }
   }
  },
  {
   "cell_type": "code",
   "execution_count": 2,
   "outputs": [],
   "source": [
    "# Chrome arguments\n",
    "CHROME_USER_DATA_DIRECTORY_ARGUMENT = r\"user-data-dir=C:\\Users\\Jaume\\AppData\\Local\\Google\\Chrome\" \\\n",
    "                                      r\"\\User Data\\Python\"\n",
    "CHROME_DISABLE_NOTIFICATION_ARGUMENT = \"--disable-notifications\"\n",
    "CHROME_EXECUTABLE_PATH =  r\"C:\\Users\\Jaume\\Documents\\Python \" \\\n",
    "                          r\"Projects\\yahoo_fantasy_lineups\\chromedriver.exe\"\n",
    "\n",
    "SLEEP_SECONDS = 1"
   ],
   "metadata": {
    "collapsed": false,
    "pycharm": {
     "name": "#%%\n"
    }
   }
  },
  {
   "cell_type": "code",
   "execution_count": 3,
   "outputs": [],
   "source": [
    "# Load Profile\n",
    "options = webdriver.ChromeOptions()\n",
    "\n",
    "# Load Chrome profile and download directory\n",
    "options.add_argument(CHROME_USER_DATA_DIRECTORY_ARGUMENT)\n",
    "options.add_argument(CHROME_DISABLE_NOTIFICATION_ARGUMENT)\n",
    "\n",
    "# Chrome with profile\n",
    "driver = Chrome(CHROME_EXECUTABLE_PATH, chrome_options = options)\n",
    "time.sleep(SLEEP_SECONDS)"
   ],
   "metadata": {
    "collapsed": false,
    "pycharm": {
     "name": "#%%\n"
    }
   }
  },
  {
   "cell_type": "code",
   "execution_count": 4,
   "outputs": [],
   "source": [
    "# Load \"My Team\" page\n",
    "MY_TEAM_URL = \"https://basketball.fantasysports.yahoo.com/nba/55374/6\"\n",
    "\n",
    "# Get URL\n",
    "driver.get(MY_TEAM_URL)\n",
    "time.sleep(SLEEP_SECONDS)"
   ],
   "metadata": {
    "collapsed": false,
    "pycharm": {
     "name": "#%%\n"
    }
   }
  },
  {
   "cell_type": "markdown",
   "source": [
    "<img src=\"http://drive.google.com/uc?export=view&id=1NNjQc_r7MsA4gj7Nca3atwOI_rNiCXoJ\" />"
   ],
   "metadata": {
    "collapsed": false,
    "pycharm": {
     "name": "#%% md\n"
    }
   }
  },
  {
   "cell_type": "markdown",
   "source": [
    "### Finding Elements With Selenium\n",
    "There are many ways to find an element on a page using selenium, all require some basic\n",
    "understanding of HTML. XPath is the language used for locating nodes in an XML document. As HTML\n",
    " can be an implementation of XML (XHTML), we can leverage this powerful language to target\n",
    " elements  in the WhatsApp Web application. XPath extends beyond (as well as supporting) the\n",
    " simple  methods of locating by id or name attributes, and opens up all sorts of new\n",
    " possibilities  such as locating the third checkbox on the page.\n",
    "\n",
    "One of the main reasons for using XPath is when you don’t have a suitable id or name attribute\n",
    "for  the element you wish to locate. You can use XPath to either locate the element in absolute\n",
    "terms (not advised), or relative to an element that does have an id or name attribute. XPath\n",
    "locators can also be used to specify elements via attributes other than id and name.\n",
    "\n",
    "Absolute XPaths contain the location of all elements from the root (HTML) and as a result are\n",
    "likely to fail with only the slightest adjustment to the application. By finding a nearby element\n",
    "  with an id or name attribute (ideally a parent element) you can locate your target element\n",
    "  based  on the relationship. This is much less likely to change and can make your tests more\n",
    "  robust.\n",
    "\n",
    "The first element that needs to be found is the button that contains the \"Start Active Players\"\n",
    "text. We can find the XPATH by inspecting the element. This button, when clicked, loads a popup\n",
    "which we will need to perform another action on. Once the initial button is clicked, we delay the\n",
    "execution of a system slightly to allow for new elements to load and populate the HTML."
   ],
   "metadata": {
    "collapsed": false,
    "pycharm": {
     "name": "#%% md\n"
    }
   },
   "outputs": [
    {
     "ename": "SyntaxError",
     "evalue": "invalid syntax (<ipython-input-13-90da061cf3f3>, line 2)",
     "output_type": "error",
     "traceback": [
      "\u001B[1;36m  File \u001B[1;32m\"<ipython-input-13-90da061cf3f3>\"\u001B[1;36m, line \u001B[1;32m2\u001B[0m\n\u001B[1;33m    There are many ways to find an element on a page using selenium, all require some basic\u001B[0m\n\u001B[1;37m          ^\u001B[0m\n\u001B[1;31mSyntaxError\u001B[0m\u001B[1;31m:\u001B[0m invalid syntax\n"
     ]
    }
   ]
  },
  {
   "cell_type": "code",
   "execution_count": 5,
   "outputs": [],
   "source": [
    "# Click \"Start Active Players\" button\n",
    "START_ACTIVE_PLAYERS_BUTTON_XPATH_TEXT = \"//*[(text()='Start Active Players')]\"\n",
    "\n",
    "# Find and click\n",
    "start_active_players_button = driver.find_element_by_xpath(START_ACTIVE_PLAYERS_BUTTON_XPATH_TEXT)\n",
    "start_active_players_button.click()\n",
    "time.sleep(SLEEP_SECONDS)"
   ],
   "metadata": {
    "collapsed": false,
    "pycharm": {
     "name": "#%%\n"
    }
   }
  },
  {
   "cell_type": "markdown",
   "source": [
    "<img src=\"http://drive.google.com/uc?export=view&id=166BW20jWjch4RVLEI_5gCFDbz64_Vc8a\" />"
   ],
   "metadata": {
    "collapsed": false,
    "pycharm": {
     "name": "#%% md\n"
    }
   }
  },
  {
   "cell_type": "code",
   "execution_count": 6,
   "outputs": [],
   "source": [
    "# Click \"Rest of Week Start\" button\n",
    "REST_OF_WEEK_START_BUTTON_XPATH_TEXT = \"//*[(text()='Start')]\"\n",
    "\n",
    "# Find and click\n",
    "start_rest_of_week_button = driver.find_element_by_xpath(REST_OF_WEEK_START_BUTTON_XPATH_TEXT)\n",
    "start_rest_of_week_button.click()\n",
    "\n",
    "driver.close()"
   ],
   "metadata": {
    "collapsed": false,
    "pycharm": {
     "name": "#%%\n"
    }
   }
  },
  {
   "cell_type": "markdown",
   "source": [
    "<img src=\"http://drive.google.com/uc?export=view&id=1gaAK0Ea9OmGc5wIuiWll7FvHk3dO0leT\" />"
   ],
   "metadata": {
    "collapsed": false,
    "pycharm": {
     "name": "#%% md\n"
    }
   }
  },
  {
   "cell_type": "markdown",
   "source": [
    "Following the successful player activation message the driver and window are closed. The Python\n",
    "logic works and this process must now be optimised so that it can automatically be executed daily\n",
    " using Windows Task Scheduler."
   ],
   "metadata": {
    "collapsed": false,
    "pycharm": {
     "name": "#%% md\n"
    }
   }
  },
  {
   "cell_type": "markdown",
   "source": [
    "## Python Scripting\n",
    "The word script is used to refer to a file containing a logical sequence of orders, or a batch\n",
    "processing file. This is usually a simple program. Scripts are always processed by some kind of\n",
    "interpreter, which is responsible for executing each command sequentially.\n",
    "\n",
    "A plain text file containing Python code that is intended to be directly executed by the user is\n",
    "usually called script, which is an informal term that means top-level program file. The\n",
    "collection of commands s in a file designed to be executed like a program. The file can of course\n",
    " contain functions and import various modules, but the idea is that it will be run or executed\n",
    " from the command line or from within a Python interactive shell to perform a specific task.\n",
    " Often a script first contains a set of function definitions and then has the main program that\n",
    " might call the functions.\n",
    "\n",
    "The script is used to automate actions and is what is needed to automate this process. The script\n",
    " is the Python file that will be executed by Task Scheduler daily. The code used above to login,\n",
    " and click buttons will transform into functions which will be contained by a *main* function\n",
    "  called ```set_daily_yahoo_lineups()```. This function will be responsible for executing the\n",
    "  entire process."
   ],
   "metadata": {
    "collapsed": false
   }
  },
  {
   "cell_type": "code",
   "execution_count": 7,
   "outputs": [],
   "source": [
    "# Functions\n",
    "def open_yahoo_my_team():\n",
    "    \"\"\"\n",
    "    Function opens the Yahoo \"My Team\" web page. ChromeDriver options are loaded which facilitate\n",
    "    the Yahoo login. The driver is returned.\n",
    "    :return driver: ChromeDriver used to open Yahoo session\n",
    "    \"\"\"\n",
    "    # Load Profile\n",
    "    options = webdriver.ChromeOptions()\n",
    "\n",
    "    # Load Chrome profile and download directory\n",
    "    options.add_argument(CHROME_USER_DATA_DIRECTORY_ARGUMENT)\n",
    "    options.add_argument(CHROME_DISABLE_NOTIFICATION_ARGUMENT)\n",
    "\n",
    "    # Chrome with profile\n",
    "    driver = Chrome(CHROME_EXECUTABLE_PATH, chrome_options = options)\n",
    "\n",
    "    driver.get(MY_TEAM_URL)\n",
    "    time.sleep(SLEEP_SECONDS)\n",
    "\n",
    "    return driver\n",
    "\n",
    "def click_button_yahoo_my_team(driver, button_xpath_text):\n",
    "    \"\"\"\n",
    "    Function finds a webelement by XPATH and automatically clicks it.\n",
    "    :param driver: ChromeDriver used to open Yahoo session\n",
    "    :param button_xpath_text: XPATH of desired element\n",
    "    :return driver: ChromeDriver used to open Yahoo session\n",
    "    \"\"\"\n",
    "    webelement_button = driver.find_element_by_xpath(button_xpath_text)\n",
    "    webelement_button.click()\n",
    "    time.sleep(SLEEP_SECONDS)\n",
    "\n",
    "    return driver"
   ],
   "metadata": {
    "collapsed": false,
    "pycharm": {
     "name": "#%%\n"
    }
   }
  },
  {
   "cell_type": "markdown",
   "source": [
    "The function below will contain the functions above and will be the called on everyday to\n",
    "automate the daily lineups process."
   ],
   "metadata": {
    "collapsed": false,
    "pycharm": {
     "name": "#%% md\n"
    }
   }
  },
  {
   "cell_type": "code",
   "execution_count": 8,
   "outputs": [],
   "source": [
    "# Combining the functions\n",
    "def set_daily_yahoo_lineups():\n",
    "    \"\"\"\n",
    "    Function ties the entire process. It first logins to Yahoo via a ChromeDriver. It then finds\n",
    "    the buttons required to be clicked to activate starting players.\n",
    "    :return: None\n",
    "    \"\"\"\n",
    "    driver = open_yahoo_my_team()\n",
    "    click_button_yahoo_my_team(driver, START_ACTIVE_PLAYERS_BUTTON_XPATH_TEXT)\n",
    "    click_button_yahoo_my_team(driver, REST_OF_WEEK_START_BUTTON_XPATH_TEXT)\n",
    "    driver.close()\n",
    "\n",
    "\n",
    "    return None\n",
    "\n",
    "# Testing the function\n",
    "set_daily_yahoo_lineups()"
   ],
   "metadata": {
    "collapsed": false,
    "pycharm": {
     "name": "#%%\n"
    }
   }
  },
  {
   "cell_type": "markdown",
   "source": [
    "### Windows Task Scheduler\n",
    "Task Scheduler is a component of Microsoft Windows that provides the ability to schedule the\n",
    "launch  of programs or scripts at pre-defined times or after specified time intervals: job\n",
    "scheduling. The tools used to create and run virtually any task automatically. Typically, the\n",
    "system and certain apps use the scheduler to automate maintenance tasks (such as disk\n",
    "defragmentation, disk cleanup, and updates), but anyone user can run it. With this experience,\n",
    "can  start applications, run commands, and execute scripts at a particular day and time, or\n",
    "you can also trigger tasks when a specific event occurs.\n",
    "\n",
    "Task Scheduler works by keeping tabs of the time and events on your computer and executes the\n",
    "task as soon as the condition is met. This script will be executed at 11am each day.\n",
    "\n",
    "A GIF of how the process works using the Windows Task Scheduler, and an email being received\n",
    " is shown below:\n",
    " "
   ],
   "metadata": {
    "collapsed": false,
    "pycharm": {
     "name": "#%% md\n"
    }
   }
  },
  {
   "cell_type": "markdown",
   "source": [
    "<img src=\"http://drive.google.com/uc?export=view&id=1zZaVEmKVBcXWrJigOq2qcRWXHdS3xWge\" />"
   ],
   "metadata": {
    "collapsed": false,
    "pycharm": {
     "name": "#%% md\n"
    }
   }
  },
  {
   "cell_type": "markdown",
   "source": [
    "### if \\_\\_name\\_\\_ == \"\\_\\_main\\_\\_\":\n",
    "When a Python interpreter reads a Python file. it first sets a few special variables. Then it\n",
    "executes the code from the file. One of those variables is called ```__name__```.\n",
    "\n",
    "When the interpreter runs a module, the ```__name__``` variable will be set as ```__main__``` if\n",
    "the module that is being run is the main program.\n",
    "\n",
    "Advantages :\n",
    "\n",
    "- Every Python module has it’s __name__ defined and if this is ‘__main__’, it implies that the\n",
    "module is being run standalone by the user, and we can do corresponding appropriate actions.\n",
    "- If you import this script as a module in another script, the __name__ is set to the name of the\n",
    "script/module.\n",
    "- Python files can act as either reusable modules, or as standalone programs.\n",
    "- if __name__ == “main”: is used to execute some code only if the file was run directly, and not\n",
    "imported.\n",
    "\n",
    "By adding if ```\\_\\_name\\_\\_ == \"\\_\\_main\\_\\_\":``` to the end of the Python script, when the\n",
    "script is executed the code following it will be run."
   ],
   "metadata": {
    "collapsed": false,
    "pycharm": {
     "name": "#%% md\n"
    }
   }
  },
  {
   "cell_type": "code",
   "execution_count": 9,
   "outputs": [],
   "source": [
    "# Putting it all together\n",
    "CHROME_USER_DATA_DIRECTORY_ARGUMENT = r\"user-data-dir=C:\\Users\\Jaume\\AppData\\Local\\Google\\Chrome\" \\\n",
    "                                      r\"\\User Data\\Python\"\n",
    "CHROME_DISABLE_NOTIFICATION_ARGUMENT = \"--disable-notifications\"\n",
    "CHROME_EXECUTABLE_PATH =  r\"C:\\Users\\Jaume\\Documents\\Python \" \\\n",
    "                          r\"Projects\\yahoo_fantasy_lineups\\chromedriver.exe\"\n",
    "\n",
    "MY_TEAM_URL = \"https://basketball.fantasysports.yahoo.com/nba/55374/6\"\n",
    "\n",
    "SLEEP_SECONDS = 1\n",
    "\n",
    "START_ACTIVE_PLAYERS_BUTTON_XPATH_TEXT = \"//*[(text()='Start Active Players')]\"\n",
    "REST_OF_WEEK_START_BUTTON_XPATH_TEXT = \"//*[(text()='Start')]\"\n",
    "\n",
    "\n",
    "def open_yahoo_my_team():\n",
    "    \"\"\"\n",
    "    Function opens the Yahoo \"My Team\" web page. ChromeDriver options are loaded which facilitate\n",
    "    the Yahoo login. The driver is returned.\n",
    "    :return driver: ChromeDriver used to open Yahoo session\n",
    "    \"\"\"\n",
    "    # Load Profile\n",
    "    options = webdriver.ChromeOptions()\n",
    "\n",
    "    # Load Chrome profile and download directory\n",
    "    options.add_argument(CHROME_USER_DATA_DIRECTORY_ARGUMENT)\n",
    "    options.add_argument(CHROME_DISABLE_NOTIFICATION_ARGUMENT)\n",
    "\n",
    "    # Chrome with profile\n",
    "    driver = Chrome(CHROME_EXECUTABLE_PATH, chrome_options = options)\n",
    "\n",
    "    driver.get(MY_TEAM_URL)\n",
    "    time.sleep(SLEEP_SECONDS)\n",
    "\n",
    "    return driver\n",
    "\n",
    "\n",
    "def click_button_yahoo_my_team(driver, button_xpath_text):\n",
    "    \"\"\"\n",
    "    Function finds a webelement by XPATH and automatically clicks it.\n",
    "    :param driver: ChromeDriver used to open Yahoo session\n",
    "    :param button_xpath_text: XPATH of desired element\n",
    "    :return driver: ChromeDriver used to open Yahoo session\n",
    "    \"\"\"\n",
    "    webelement_button = driver.find_element_by_xpath(button_xpath_text)\n",
    "    webelement_button.click()\n",
    "    time.sleep(SLEEP_SECONDS)\n",
    "\n",
    "    return driver\n",
    "\n",
    "\n",
    "def set_daily_yahoo_lineups():\n",
    "    \"\"\"\n",
    "    Function ties the entire process. It first logins to Yahoo via a ChromeDriver. It then finds\n",
    "    the buttons required to be clicked to activate starting players.\n",
    "    :return: None\n",
    "    \"\"\"\n",
    "    driver = open_yahoo_my_team()\n",
    "    click_button_yahoo_my_team(driver, START_ACTIVE_PLAYERS_BUTTON_XPATH_TEXT)\n",
    "    click_button_yahoo_my_team(driver, REST_OF_WEEK_START_BUTTON_XPATH_TEXT)\n",
    "    driver.close()\n",
    "\n",
    "    return None\n",
    "\n",
    "\n",
    "if __name__ == \"__main__\":\n",
    "    set_daily_yahoo_lineups()\n"
   ],
   "metadata": {
    "collapsed": false,
    "pycharm": {
     "name": "#%%\n"
    }
   }
  },
  {
   "cell_type": "markdown",
   "source": [
    "## Conclusion\n",
    "Automating tasks is made simple with Python and its abundance of modules. Selenium helps automate\n",
    " browser interactions, and it was used throughout this project to navigate the Yahoo NBA Fantasy\n",
    " website.\n",
    "\n",
    "The Python script will be run everyday so that I don't have to manually set my players. This\n",
    "saves me time, and I can sleep easy knowing I won't lose valuable points from not having set my\n",
    "lineups. The next steps are to make the script more intelligent. Two ways come to mind. A safety\n",
    "measure needs to be introduced that should alert me if the script does not run or fails in its\n",
    "execution. A push notification via WhatsApp, again automated by Selenium, or an email alerting me\n",
    " of the issue would prove useful. Another way the script could improve would be by ensuring that\n",
    " it set the best available players to play each day. There are only 10 active roster spots and\n",
    " some times 11 or more players play on any given day. An optimisation task might be introduced to\n",
    "  ensure that the best player for the best position is introduced into the active line up!"
   ],
   "metadata": {
    "collapsed": false,
    "pycharm": {
     "name": "#%% md\n"
    }
   }
  },
  {
   "cell_type": "markdown",
   "source": [
    "## Further Reading\n",
    "#### Selenium\n",
    "[Selenium Documentaion](#https://selenium-python.readthedocs.io/) <br>\n",
    "[Selenium Turotial](#https://www.guru99.com/selenium-python.html) <br>\n",
    "[Web Scraping Using Selenium](#https://towardsdatascience.com/web-scraping-using-selenium-python-8a60f4cf40ab)\n",
    "\n",
    "#### Windows Task Scheduler¶\n",
    "[Wikipedia - Windows Task Scheduler](#https://en.wikipedia.org/wiki/Windows_Task_Scheduler) <br>\n",
    "[Creating Automated Tasks](#https://www.windowscentral.com/how-create-automated-task-using-task-scheduler-windows-10) <br>\n",
    "[Step by Step Tasks](#https://www.digitalcitizen.life/how-create-task-basic-task-wizard)\n",
    "\n",
    "\n",
    "\n"
   ],
   "metadata": {
    "collapsed": false
   }
  }
 ],
 "metadata": {
  "kernelspec": {
   "display_name": "Python 3",
   "language": "python",
   "name": "python3"
  },
  "language_info": {
   "codemirror_mode": {
    "name": "ipython",
    "version": 2
   },
   "file_extension": ".py",
   "mimetype": "text/x-python",
   "name": "python",
   "nbconvert_exporter": "python",
   "pygments_lexer": "ipython2",
   "version": "2.7.6"
  }
 },
 "nbformat": 4,
 "nbformat_minor": 0
}