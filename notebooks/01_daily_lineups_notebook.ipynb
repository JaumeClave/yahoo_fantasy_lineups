{
 "cells": [
  {
   "cell_type": "markdown",
   "metadata": {
    "collapsed": true,
    "pycharm": {
     "name": "#%% md\n"
    }
   },
   "source": [
    "# Start Active Players: Automating My Daily Lineups"
   ]
  },
  {
   "cell_type": "code",
   "execution_count": 18,
   "outputs": [],
   "source": [
    "# Import modules\n",
    "from selenium import webdriver\n",
    "from selenium.webdriver import Chrome\n",
    "import time"
   ],
   "metadata": {
    "collapsed": false,
    "pycharm": {
     "name": "#%%\n"
    }
   }
  },
  {
   "cell_type": "code",
   "execution_count": 19,
   "outputs": [],
   "source": [
    "# Chrome arguments\n",
    "CHROME_USER_DATA_DIRECTORY_ARGUMENT = r\"user-data-dir=C:\\Users\\Jaume\\AppData\\Local\\Google\\Chrome\" \\\n",
    "                                      r\"\\User Data\\Python\"\n",
    "CHROME_DISABLE_NOTIFICATION_ARGUMENT = \"--disable-notifications\"\n",
    "CHROME_EXECUTABLE_PATH = r\"C:\\Users\\Jaume\\Documents\\Python Projects\\yahoo_fantasy_lineups\\chromedriver.exe\""
   ],
   "metadata": {
    "collapsed": false,
    "pycharm": {
     "name": "#%%\n"
    }
   }
  },
  {
   "cell_type": "code",
   "execution_count": 20,
   "outputs": [
    {
     "name": "stderr",
     "output_type": "stream",
     "text": [
      "<ipython-input-20-f83a5bec250e>:9: DeprecationWarning: use options instead of chrome_options\n",
      "  driver = Chrome(CHROME_EXECUTABLE_PATH, chrome_options = options)\n"
     ]
    }
   ],
   "source": [
    "# Load Profile\n",
    "options = webdriver.ChromeOptions()\n",
    "\n",
    "# Load Chrome profile and download directory\n",
    "options.add_argument(CHROME_USER_DATA_DIRECTORY_ARGUMENT)\n",
    "options.add_argument(CHROME_DISABLE_NOTIFICATION_ARGUMENT)\n",
    "\n",
    "# Chrome with profile\n",
    "driver = Chrome(CHROME_EXECUTABLE_PATH, chrome_options = options)"
   ],
   "metadata": {
    "collapsed": false,
    "pycharm": {
     "name": "#%%\n"
    }
   }
  },
  {
   "cell_type": "code",
   "execution_count": 21,
   "outputs": [],
   "source": [
    "# Load \"My Team\" page\n",
    "MY_TEAM_URL = \"https://basketball.fantasysports.yahoo.com/nba/55374/6\"\n",
    "\n",
    "# Get URL\n",
    "driver.get(MY_TEAM_URL)\n",
    "time.sleep(1)"
   ],
   "metadata": {
    "collapsed": false,
    "pycharm": {
     "name": "#%%\n"
    }
   }
  },
  {
   "cell_type": "code",
   "execution_count": 22,
   "outputs": [],
   "source": [
    "# Click \"Start Active Players\" button\n",
    "START_ACTIVE_PLAYERS_BUTTON_XPATH_TEXT = \"//*[(text()='Start Active Players')]\"\n",
    "\n",
    "# Find and click\n",
    "start_active_players_button = driver.find_element_by_xpath(START_ACTIVE_PLAYERS_BUTTON_XPATH_TEXT)\n",
    "start_active_players_button.click()\n",
    "time.sleep(1)"
   ],
   "metadata": {
    "collapsed": false,
    "pycharm": {
     "name": "#%%\n"
    }
   }
  },
  {
   "cell_type": "code",
   "execution_count": 23,
   "outputs": [],
   "source": [
    "# Click \"Rest of Week Start\" button\n",
    "REST_OF_WEEK_START_BUTTON_XPATH_TEXT = \"//*[(text()='Start')]\"\n",
    "\n",
    "# Find and click\n",
    "start_rest_of_week_button = driver.find_element_by_xpath(REST_OF_WEEK_START_BUTTON_XPATH_TEXT)\n",
    "start_rest_of_week_button.click()"
   ],
   "metadata": {
    "collapsed": false,
    "pycharm": {
     "name": "#%%\n"
    }
   }
  },
  {
   "cell_type": "code",
   "execution_count": 36,
   "outputs": [],
   "source": [
    "# Sleep time (seconds)\n",
    "SLEEP_SECONDS = 1\n",
    "\n",
    "def open_yahoo_my_team():\n",
    "    \"\"\"\n",
    "\n",
    "    :return:\n",
    "    \"\"\"\n",
    "    # Load Profile\n",
    "    options = webdriver.ChromeOptions()\n",
    "\n",
    "    # Load Chrome profile and download directory\n",
    "    options.add_argument(CHROME_USER_DATA_DIRECTORY_ARGUMENT)\n",
    "    options.add_argument(CHROME_DISABLE_NOTIFICATION_ARGUMENT)\n",
    "\n",
    "    # Chrome with profile\n",
    "    driver = Chrome(CHROME_EXECUTABLE_PATH, chrome_options = options)\n",
    "\n",
    "    driver.get(MY_TEAM_URL)\n",
    "    time.sleep(SLEEP_SECONDS)\n",
    "\n",
    "    return driver\n",
    "\n",
    "def click_button_yahoo_my_team(driver, button_xpath_text):\n",
    "    \"\"\"\n",
    "\n",
    "    :param button_xpath_text:\n",
    "    :return:\n",
    "    \"\"\"\n",
    "    webelement_button = driver.find_element_by_xpath(button_xpath_text)\n",
    "    webelement_button.click()\n",
    "    time.sleep(SLEEP_SECONDS)\n",
    "\n",
    "    return driver"
   ],
   "metadata": {
    "collapsed": false,
    "pycharm": {
     "name": "#%%\n"
    }
   }
  },
  {
   "cell_type": "code",
   "execution_count": 40,
   "outputs": [
    {
     "name": "stderr",
     "output_type": "stream",
     "text": [
      "<ipython-input-36-b2b85705d337>:17: DeprecationWarning: use options instead of chrome_options\n",
      "  driver = Chrome(CHROME_EXECUTABLE_PATH, chrome_options = options)\n"
     ]
    }
   ],
   "source": [
    "# Combining the functions\n",
    "def set_daily_yahoo_lineups():\n",
    "    driver = open_yahoo_my_team()\n",
    "    click_button_yahoo_my_team(driver, START_ACTIVE_PLAYERS_BUTTON_XPATH_TEXT)\n",
    "    click_button_yahoo_my_team(driver, REST_OF_WEEK_START_BUTTON_XPATH_TEXT)\n",
    "\n",
    "    return None\n",
    "set_daily_yahoo_lineups()"
   ],
   "metadata": {
    "collapsed": false,
    "pycharm": {
     "name": "#%%\n"
    }
   }
  },
  {
   "cell_type": "code",
   "execution_count": 39,
   "outputs": [
    {
     "name": "stderr",
     "output_type": "stream",
     "text": [
      "<ipython-input-36-b2b85705d337>:17: DeprecationWarning: use options instead of chrome_options\n",
      "  driver = Chrome(CHROME_EXECUTABLE_PATH, chrome_options = options)\n"
     ]
    },
    {
     "ename": "InvalidArgumentException",
     "evalue": "Message: invalid argument: user data directory is already in use, please specify a unique value for --user-data-dir argument, or don't use --user-data-dir\n",
     "output_type": "error",
     "traceback": [
      "\u001B[1;31m---------------------------------------------------------------------------\u001B[0m",
      "\u001B[1;31mInvalidArgumentException\u001B[0m                  Traceback (most recent call last)",
      "\u001B[1;32m<ipython-input-39-f7f090237bf8>\u001B[0m in \u001B[0;36m<module>\u001B[1;34m\u001B[0m\n\u001B[0;32m      1\u001B[0m \u001B[1;31m# __main__\u001B[0m\u001B[1;33m\u001B[0m\u001B[1;33m\u001B[0m\u001B[1;33m\u001B[0m\u001B[0m\n\u001B[0;32m      2\u001B[0m \u001B[1;32mif\u001B[0m \u001B[0m__name__\u001B[0m \u001B[1;33m==\u001B[0m \u001B[1;34m\"__main__\"\u001B[0m\u001B[1;33m:\u001B[0m\u001B[1;33m\u001B[0m\u001B[1;33m\u001B[0m\u001B[0m\n\u001B[1;32m----> 3\u001B[1;33m     \u001B[0mdriver\u001B[0m \u001B[1;33m=\u001B[0m \u001B[0mopen_yahoo_my_team\u001B[0m\u001B[1;33m(\u001B[0m\u001B[1;33m)\u001B[0m\u001B[1;33m\u001B[0m\u001B[1;33m\u001B[0m\u001B[0m\n\u001B[0m\u001B[0;32m      4\u001B[0m     \u001B[0mclick_button_yahoo_my_team\u001B[0m\u001B[1;33m(\u001B[0m\u001B[0mdriver\u001B[0m\u001B[1;33m,\u001B[0m \u001B[0mSTART_ACTIVE_PLAYERS_BUTTON_XPATH_TEXT\u001B[0m\u001B[1;33m)\u001B[0m\u001B[1;33m\u001B[0m\u001B[1;33m\u001B[0m\u001B[0m\n\u001B[0;32m      5\u001B[0m     \u001B[0mclick_button_yahoo_my_team\u001B[0m\u001B[1;33m(\u001B[0m\u001B[0mdriver\u001B[0m\u001B[1;33m,\u001B[0m \u001B[0mREST_OF_WEEK_START_BUTTON_XPATH_TEXT\u001B[0m\u001B[1;33m)\u001B[0m\u001B[1;33m\u001B[0m\u001B[1;33m\u001B[0m\u001B[0m\n",
      "\u001B[1;32m<ipython-input-36-b2b85705d337>\u001B[0m in \u001B[0;36mopen_yahoo_my_team\u001B[1;34m()\u001B[0m\n\u001B[0;32m     15\u001B[0m \u001B[1;33m\u001B[0m\u001B[0m\n\u001B[0;32m     16\u001B[0m     \u001B[1;31m# Chrome with profile\u001B[0m\u001B[1;33m\u001B[0m\u001B[1;33m\u001B[0m\u001B[1;33m\u001B[0m\u001B[0m\n\u001B[1;32m---> 17\u001B[1;33m     \u001B[0mdriver\u001B[0m \u001B[1;33m=\u001B[0m \u001B[0mChrome\u001B[0m\u001B[1;33m(\u001B[0m\u001B[0mCHROME_EXECUTABLE_PATH\u001B[0m\u001B[1;33m,\u001B[0m \u001B[0mchrome_options\u001B[0m \u001B[1;33m=\u001B[0m \u001B[0moptions\u001B[0m\u001B[1;33m)\u001B[0m\u001B[1;33m\u001B[0m\u001B[1;33m\u001B[0m\u001B[0m\n\u001B[0m\u001B[0;32m     18\u001B[0m \u001B[1;33m\u001B[0m\u001B[0m\n\u001B[0;32m     19\u001B[0m     \u001B[0mdriver\u001B[0m\u001B[1;33m.\u001B[0m\u001B[0mget\u001B[0m\u001B[1;33m(\u001B[0m\u001B[0mMY_TEAM_URL\u001B[0m\u001B[1;33m)\u001B[0m\u001B[1;33m\u001B[0m\u001B[1;33m\u001B[0m\u001B[0m\n",
      "\u001B[1;32mc:\\users\\jaume\\documents\\python projects\\yahoo_fantasy_lineups\\venv\\lib\\site-packages\\selenium\\webdriver\\chrome\\webdriver.py\u001B[0m in \u001B[0;36m__init__\u001B[1;34m(self, executable_path, port, options, service_args, desired_capabilities, service_log_path, chrome_options, keep_alive)\u001B[0m\n\u001B[0;32m     74\u001B[0m \u001B[1;33m\u001B[0m\u001B[0m\n\u001B[0;32m     75\u001B[0m         \u001B[1;32mtry\u001B[0m\u001B[1;33m:\u001B[0m\u001B[1;33m\u001B[0m\u001B[1;33m\u001B[0m\u001B[0m\n\u001B[1;32m---> 76\u001B[1;33m             RemoteWebDriver.__init__(\n\u001B[0m\u001B[0;32m     77\u001B[0m                 \u001B[0mself\u001B[0m\u001B[1;33m,\u001B[0m\u001B[1;33m\u001B[0m\u001B[1;33m\u001B[0m\u001B[0m\n\u001B[0;32m     78\u001B[0m                 command_executor=ChromeRemoteConnection(\n",
      "\u001B[1;32mc:\\users\\jaume\\documents\\python projects\\yahoo_fantasy_lineups\\venv\\lib\\site-packages\\selenium\\webdriver\\remote\\webdriver.py\u001B[0m in \u001B[0;36m__init__\u001B[1;34m(self, command_executor, desired_capabilities, browser_profile, proxy, keep_alive, file_detector, options)\u001B[0m\n\u001B[0;32m    155\u001B[0m             warnings.warn(\"Please use FirefoxOptions to set browser profile\",\n\u001B[0;32m    156\u001B[0m                           DeprecationWarning, stacklevel=2)\n\u001B[1;32m--> 157\u001B[1;33m         \u001B[0mself\u001B[0m\u001B[1;33m.\u001B[0m\u001B[0mstart_session\u001B[0m\u001B[1;33m(\u001B[0m\u001B[0mcapabilities\u001B[0m\u001B[1;33m,\u001B[0m \u001B[0mbrowser_profile\u001B[0m\u001B[1;33m)\u001B[0m\u001B[1;33m\u001B[0m\u001B[1;33m\u001B[0m\u001B[0m\n\u001B[0m\u001B[0;32m    158\u001B[0m         \u001B[0mself\u001B[0m\u001B[1;33m.\u001B[0m\u001B[0m_switch_to\u001B[0m \u001B[1;33m=\u001B[0m \u001B[0mSwitchTo\u001B[0m\u001B[1;33m(\u001B[0m\u001B[0mself\u001B[0m\u001B[1;33m)\u001B[0m\u001B[1;33m\u001B[0m\u001B[1;33m\u001B[0m\u001B[0m\n\u001B[0;32m    159\u001B[0m         \u001B[0mself\u001B[0m\u001B[1;33m.\u001B[0m\u001B[0m_mobile\u001B[0m \u001B[1;33m=\u001B[0m \u001B[0mMobile\u001B[0m\u001B[1;33m(\u001B[0m\u001B[0mself\u001B[0m\u001B[1;33m)\u001B[0m\u001B[1;33m\u001B[0m\u001B[1;33m\u001B[0m\u001B[0m\n",
      "\u001B[1;32mc:\\users\\jaume\\documents\\python projects\\yahoo_fantasy_lineups\\venv\\lib\\site-packages\\selenium\\webdriver\\remote\\webdriver.py\u001B[0m in \u001B[0;36mstart_session\u001B[1;34m(self, capabilities, browser_profile)\u001B[0m\n\u001B[0;32m    250\u001B[0m         parameters = {\"capabilities\": w3c_caps,\n\u001B[0;32m    251\u001B[0m                       \"desiredCapabilities\": capabilities}\n\u001B[1;32m--> 252\u001B[1;33m         \u001B[0mresponse\u001B[0m \u001B[1;33m=\u001B[0m \u001B[0mself\u001B[0m\u001B[1;33m.\u001B[0m\u001B[0mexecute\u001B[0m\u001B[1;33m(\u001B[0m\u001B[0mCommand\u001B[0m\u001B[1;33m.\u001B[0m\u001B[0mNEW_SESSION\u001B[0m\u001B[1;33m,\u001B[0m \u001B[0mparameters\u001B[0m\u001B[1;33m)\u001B[0m\u001B[1;33m\u001B[0m\u001B[1;33m\u001B[0m\u001B[0m\n\u001B[0m\u001B[0;32m    253\u001B[0m         \u001B[1;32mif\u001B[0m \u001B[1;34m'sessionId'\u001B[0m \u001B[1;32mnot\u001B[0m \u001B[1;32min\u001B[0m \u001B[0mresponse\u001B[0m\u001B[1;33m:\u001B[0m\u001B[1;33m\u001B[0m\u001B[1;33m\u001B[0m\u001B[0m\n\u001B[0;32m    254\u001B[0m             \u001B[0mresponse\u001B[0m \u001B[1;33m=\u001B[0m \u001B[0mresponse\u001B[0m\u001B[1;33m[\u001B[0m\u001B[1;34m'value'\u001B[0m\u001B[1;33m]\u001B[0m\u001B[1;33m\u001B[0m\u001B[1;33m\u001B[0m\u001B[0m\n",
      "\u001B[1;32mc:\\users\\jaume\\documents\\python projects\\yahoo_fantasy_lineups\\venv\\lib\\site-packages\\selenium\\webdriver\\remote\\webdriver.py\u001B[0m in \u001B[0;36mexecute\u001B[1;34m(self, driver_command, params)\u001B[0m\n\u001B[0;32m    319\u001B[0m         \u001B[0mresponse\u001B[0m \u001B[1;33m=\u001B[0m \u001B[0mself\u001B[0m\u001B[1;33m.\u001B[0m\u001B[0mcommand_executor\u001B[0m\u001B[1;33m.\u001B[0m\u001B[0mexecute\u001B[0m\u001B[1;33m(\u001B[0m\u001B[0mdriver_command\u001B[0m\u001B[1;33m,\u001B[0m \u001B[0mparams\u001B[0m\u001B[1;33m)\u001B[0m\u001B[1;33m\u001B[0m\u001B[1;33m\u001B[0m\u001B[0m\n\u001B[0;32m    320\u001B[0m         \u001B[1;32mif\u001B[0m \u001B[0mresponse\u001B[0m\u001B[1;33m:\u001B[0m\u001B[1;33m\u001B[0m\u001B[1;33m\u001B[0m\u001B[0m\n\u001B[1;32m--> 321\u001B[1;33m             \u001B[0mself\u001B[0m\u001B[1;33m.\u001B[0m\u001B[0merror_handler\u001B[0m\u001B[1;33m.\u001B[0m\u001B[0mcheck_response\u001B[0m\u001B[1;33m(\u001B[0m\u001B[0mresponse\u001B[0m\u001B[1;33m)\u001B[0m\u001B[1;33m\u001B[0m\u001B[1;33m\u001B[0m\u001B[0m\n\u001B[0m\u001B[0;32m    322\u001B[0m             response['value'] = self._unwrap_value(\n\u001B[0;32m    323\u001B[0m                 response.get('value', None))\n",
      "\u001B[1;32mc:\\users\\jaume\\documents\\python projects\\yahoo_fantasy_lineups\\venv\\lib\\site-packages\\selenium\\webdriver\\remote\\errorhandler.py\u001B[0m in \u001B[0;36mcheck_response\u001B[1;34m(self, response)\u001B[0m\n\u001B[0;32m    240\u001B[0m                 \u001B[0malert_text\u001B[0m \u001B[1;33m=\u001B[0m \u001B[0mvalue\u001B[0m\u001B[1;33m[\u001B[0m\u001B[1;34m'alert'\u001B[0m\u001B[1;33m]\u001B[0m\u001B[1;33m.\u001B[0m\u001B[0mget\u001B[0m\u001B[1;33m(\u001B[0m\u001B[1;34m'text'\u001B[0m\u001B[1;33m)\u001B[0m\u001B[1;33m\u001B[0m\u001B[1;33m\u001B[0m\u001B[0m\n\u001B[0;32m    241\u001B[0m             \u001B[1;32mraise\u001B[0m \u001B[0mexception_class\u001B[0m\u001B[1;33m(\u001B[0m\u001B[0mmessage\u001B[0m\u001B[1;33m,\u001B[0m \u001B[0mscreen\u001B[0m\u001B[1;33m,\u001B[0m \u001B[0mstacktrace\u001B[0m\u001B[1;33m,\u001B[0m \u001B[0malert_text\u001B[0m\u001B[1;33m)\u001B[0m\u001B[1;33m\u001B[0m\u001B[1;33m\u001B[0m\u001B[0m\n\u001B[1;32m--> 242\u001B[1;33m         \u001B[1;32mraise\u001B[0m \u001B[0mexception_class\u001B[0m\u001B[1;33m(\u001B[0m\u001B[0mmessage\u001B[0m\u001B[1;33m,\u001B[0m \u001B[0mscreen\u001B[0m\u001B[1;33m,\u001B[0m \u001B[0mstacktrace\u001B[0m\u001B[1;33m)\u001B[0m\u001B[1;33m\u001B[0m\u001B[1;33m\u001B[0m\u001B[0m\n\u001B[0m\u001B[0;32m    243\u001B[0m \u001B[1;33m\u001B[0m\u001B[0m\n\u001B[0;32m    244\u001B[0m     \u001B[1;32mdef\u001B[0m \u001B[0m_value_or_default\u001B[0m\u001B[1;33m(\u001B[0m\u001B[0mself\u001B[0m\u001B[1;33m,\u001B[0m \u001B[0mobj\u001B[0m\u001B[1;33m,\u001B[0m \u001B[0mkey\u001B[0m\u001B[1;33m,\u001B[0m \u001B[0mdefault\u001B[0m\u001B[1;33m)\u001B[0m\u001B[1;33m:\u001B[0m\u001B[1;33m\u001B[0m\u001B[1;33m\u001B[0m\u001B[0m\n",
      "\u001B[1;31mInvalidArgumentException\u001B[0m: Message: invalid argument: user data directory is already in use, please specify a unique value for --user-data-dir argument, or don't use --user-data-dir\n"
     ]
    }
   ],
   "source": [
    "# __main__\n",
    "if __name__ == \"__main__\":\n",
    "    driver = open_yahoo_my_team()\n",
    "    click_button_yahoo_my_team(driver, START_ACTIVE_PLAYERS_BUTTON_XPATH_TEXT)\n",
    "    click_button_yahoo_my_team(driver, REST_OF_WEEK_START_BUTTON_XPATH_TEXT)"
   ],
   "metadata": {
    "collapsed": false,
    "pycharm": {
     "name": "#%%\n"
    }
   }
  },
  {
   "cell_type": "code",
   "execution_count": 42,
   "outputs": [
    {
     "name": "stderr",
     "output_type": "stream",
     "text": [
      "<ipython-input-42-1ad3cae6affb>:28: DeprecationWarning: use options instead of chrome_options\n",
      "  driver = Chrome(CHROME_EXECUTABLE_PATH, chrome_options = options)\n"
     ]
    }
   ],
   "source": [
    "# Putting it all together\n",
    "CHROME_USER_DATA_DIRECTORY_ARGUMENT = r\"user-data-dir=C:\\Users\\Jaume\\AppData\\Local\\Google\\Chrome\" \\\n",
    "                                      r\"\\User Data\\Python\"\n",
    "CHROME_DISABLE_NOTIFICATION_ARGUMENT = \"--disable-notifications\"\n",
    "CHROME_EXECUTABLE_PATH = r\"C:\\Users\\Jaume\\Documents\\Python Projects\\yahoo_fantasy_lineups\\chromedriver.exe\"\n",
    "\n",
    "MY_TEAM_URL = \"https://basketball.fantasysports.yahoo.com/nba/55374/6\"\n",
    "\n",
    "SLEEP_SECONDS = 1\n",
    "\n",
    "START_ACTIVE_PLAYERS_BUTTON_XPATH_TEXT = \"//*[(text()='Start Active Players')]\"\n",
    "REST_OF_WEEK_START_BUTTON_XPATH_TEXT = \"//*[(text()='Start')]\"\n",
    "\n",
    "\n",
    "def open_yahoo_my_team():\n",
    "    \"\"\"\n",
    "\n",
    "    :return:\n",
    "    \"\"\"\n",
    "    # Load Profile\n",
    "    options = webdriver.ChromeOptions()\n",
    "\n",
    "    # Load Chrome profile and download directory\n",
    "    options.add_argument(CHROME_USER_DATA_DIRECTORY_ARGUMENT)\n",
    "    options.add_argument(CHROME_DISABLE_NOTIFICATION_ARGUMENT)\n",
    "\n",
    "    # Chrome with profile\n",
    "    driver = Chrome(CHROME_EXECUTABLE_PATH, chrome_options = options)\n",
    "\n",
    "    driver.get(MY_TEAM_URL)\n",
    "    time.sleep(SLEEP_SECONDS)\n",
    "\n",
    "    return driver\n",
    "\n",
    "\n",
    "def click_button_yahoo_my_team(driver, button_xpath_text):\n",
    "    \"\"\"\n",
    "\n",
    "    :param button_xpath_text:\n",
    "    :return:\n",
    "    \"\"\"\n",
    "    webelement_button = driver.find_element_by_xpath(button_xpath_text)\n",
    "    webelement_button.click()\n",
    "    time.sleep(SLEEP_SECONDS)\n",
    "\n",
    "    return driver\n",
    "\n",
    "\n",
    "def set_daily_yahoo_lineups():\n",
    "    driver = open_yahoo_my_team()\n",
    "    click_button_yahoo_my_team(driver, START_ACTIVE_PLAYERS_BUTTON_XPATH_TEXT)\n",
    "    click_button_yahoo_my_team(driver, REST_OF_WEEK_START_BUTTON_XPATH_TEXT)\n",
    "\n",
    "    return None\n",
    "\n",
    "\n",
    "if __name__ == \"__main__\":\n",
    "    driver = open_yahoo_my_team()\n",
    "    click_button_yahoo_my_team(driver, START_ACTIVE_PLAYERS_BUTTON_XPATH_TEXT)\n",
    "    click_button_yahoo_my_team(driver, REST_OF_WEEK_START_BUTTON_XPATH_TEXT)\n"
   ],
   "metadata": {
    "collapsed": false,
    "pycharm": {
     "name": "#%%\n"
    }
   }
  }
 ],
 "metadata": {
  "kernelspec": {
   "display_name": "Python 3",
   "language": "python",
   "name": "python3"
  },
  "language_info": {
   "codemirror_mode": {
    "name": "ipython",
    "version": 2
   },
   "file_extension": ".py",
   "mimetype": "text/x-python",
   "name": "python",
   "nbconvert_exporter": "python",
   "pygments_lexer": "ipython2",
   "version": "2.7.6"
  }
 },
 "nbformat": 4,
 "nbformat_minor": 0
}