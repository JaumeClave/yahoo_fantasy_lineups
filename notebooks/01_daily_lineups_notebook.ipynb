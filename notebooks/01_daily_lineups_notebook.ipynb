{
 "cells": [
  {
   "cell_type": "markdown",
   "metadata": {
    "collapsed": true,
    "pycharm": {
     "name": "#%% md\n"
    }
   },
   "source": [
    "# Start Active Players: Automating My Daily Lineups\n",
    "Automatically setting my NBA Fantasy lineups by Jaume Clave\n",
    "\n",
    "December 19, 2020"
   ]
  },
  {
   "cell_type": "markdown",
   "source": [
    "I've been playing Fantasy NBA for 5 years now. Before the real NBA season starts we get a group\n",
    "of friends to join our 12 team, 9cat h2h NBA Fantasy league on Yahoo. It's good fun to build out\n",
    "a team and see how players perform throughout the year.\n",
    "\n",
    "It can get quite competitive between the team owners and leagues in the past have been won on\n",
    "small margins. Each owner tries to get as many advantages as they can. People set up Twitter\n",
    "alerts so that they are first to know about an injury or trade. Team gamble on *sleepers* in hope\n",
    " that a waiver wire add can explode into a huge signing.\n",
    "\n",
    "One of the most commons ways of losing a h2h match up is forgetting to set your lineups.\n",
    "Unfortunately, if you leave one of your players on the bench, you miss out on all the points that\n",
    " player makes for you. This often happens as this is something that needs to be done and checked\n",
    " daily. Life gets in the way and one forgets.\n",
    "\n",
    "This project aims to fix this. This project creates a script using Selenium that logs into my\n",
    "Yahoo Fantasy and automatically sets my players as *active*. Meaning their in-game performances\n",
    "will count towards my totals. This script will be executed daily using Windows Task Scheduler."
   ],
   "metadata": {
    "collapsed": false,
    "pycharm": {
     "name": "#%% md\n"
    }
   }
  },
  {
   "cell_type": "markdown",
   "source": [
    "## Index\n",
    "\n",
    "[Selenium](#Selenium)\n"
   ],
   "metadata": {
    "collapsed": false,
    "pycharm": {
     "name": "#%% md\n"
    }
   }
  },
  {
   "cell_type": "markdown",
   "source": [
    "## Selenium\n",
    "Selenium WebDriver is one of the most popular tools for Web UI Automation. The selenium package\n",
    "is  used to automate web browser interaction from Python. Web UI Automation refers to the\n",
    "automatic  execution of the actions preformed in a web browser window like navigating to a\n",
    "website, filing forms that deal with input to text boxes, with radio buttons, downloading of\n",
    "images  and files, submission of forms and general website interactions. With Selenium a user is\n",
    " able to automate all this stuff; automate the boring stuff!\n",
    "\n",
    "In order to automate with selenium on Google Chrome, chromedriver.exe must be downloaded because\n",
    "a  path to this needs to be executable on your computer. WebDriver is an open source tool for\n",
    "automated testing of webapps across many browsers. It provides capabilities for navigating to web\n",
    "  pages, user input, JavaScript execution, and more. ChromeDriver is a standalone server that\n",
    "  implements the W3C WebDriver standard.\n",
    "\n",
    "This section will use Selenium to automate the three steps involved in setting a daily lineups:\n",
    "\n",
    "    1. Authenticate on Yahoo and navigate to the \"My Team\" page\n",
    "    2. Find the \"Start Active Players\" button and click it\n",
    "    3. Find the \"Start\" button in the popup and click it\n",
    "\n",
    "Each step will be broken down and visualised."
   ],
   "metadata": {
    "collapsed": false,
    "pycharm": {
     "name": "#%% md\n"
    }
   }
  },
  {
   "cell_type": "code",
   "execution_count": 7,
   "outputs": [],
   "source": [
    "# Import modules\n",
    "from selenium import webdriver\n",
    "from selenium.webdriver import Chrome\n",
    "import time"
   ],
   "metadata": {
    "collapsed": false,
    "pycharm": {
     "name": "#%%\n"
    }
   }
  },
  {
   "cell_type": "markdown",
   "source": [
    "### ChromeDriver"
   ],
   "metadata": {
    "collapsed": false,
    "pycharm": {
     "name": "#%% md\n"
    }
   }
  },
  {
   "cell_type": "code",
   "execution_count": 8,
   "outputs": [],
   "source": [
    "# Chrome arguments\n",
    "CHROME_USER_DATA_DIRECTORY_ARGUMENT = r\"user-data-dir=C:\\Users\\Jaume\\AppData\\Local\\Google\\Chrome\" \\\n",
    "                                      r\"\\User Data\\Python\"\n",
    "CHROME_DISABLE_NOTIFICATION_ARGUMENT = \"--disable-notifications\"\n",
    "CHROME_EXECUTABLE_PATH =  r\"C:\\Users\\Jaume\\Documents\\Python \" \\\n",
    "                          r\"Projects\\yahoo_fantasy_lineups\\chromedriver.exe\""
   ],
   "metadata": {
    "collapsed": false,
    "pycharm": {
     "name": "#%%\n"
    }
   }
  },
  {
   "cell_type": "code",
   "execution_count": 9,
   "outputs": [
    {
     "name": "stderr",
     "output_type": "stream",
     "text": [
      "<ipython-input-9-1fcbf30b4fb1>:9: DeprecationWarning: use options instead of chrome_options\n",
      "  driver = Chrome(CHROME_EXECUTABLE_PATH, chrome_options = options)\n"
     ]
    }
   ],
   "source": [
    "# Load Profile\n",
    "options = webdriver.ChromeOptions()\n",
    "\n",
    "# Load Chrome profile and download directory\n",
    "options.add_argument(CHROME_USER_DATA_DIRECTORY_ARGUMENT)\n",
    "options.add_argument(CHROME_DISABLE_NOTIFICATION_ARGUMENT)\n",
    "\n",
    "# Chrome with profile\n",
    "driver = Chrome(CHROME_EXECUTABLE_PATH, chrome_options = options)\n",
    "time.sleep(2)"
   ],
   "metadata": {
    "collapsed": false,
    "pycharm": {
     "name": "#%%\n"
    }
   }
  },
  {
   "cell_type": "code",
   "execution_count": 10,
   "outputs": [],
   "source": [
    "# Load \"My Team\" page\n",
    "MY_TEAM_URL = \"https://basketball.fantasysports.yahoo.com/nba/55374/6\"\n",
    "\n",
    "# Get URL\n",
    "driver.get(MY_TEAM_URL)\n",
    "time.sleep(1)"
   ],
   "metadata": {
    "collapsed": false,
    "pycharm": {
     "name": "#%%\n"
    }
   }
  },
  {
   "cell_type": "markdown",
   "source": [
    "<img src=\"http://drive.google.com/uc?export=view&id=1NNjQc_r7MsA4gj7Nca3atwOI_rNiCXoJ\" />"
   ],
   "metadata": {
    "collapsed": false,
    "pycharm": {
     "name": "#%% md\n"
    }
   }
  },
  {
   "cell_type": "markdown",
   "source": [
    "### Finding Elements With Selenium\n",
    "There are many ways to find an element on a page using selenium, all require some basic\n",
    "understanding of HTML. XPath is the language used for locating nodes in an XML document. As HTML\n",
    " can be an implementation of XML (XHTML), we can leverage this powerful language to target\n",
    " elements  in the WhatsApp Web application. XPath extends beyond (as well as supporting) the\n",
    " simple  methods of locating by id or name attributes, and opens up all sorts of new\n",
    " possibilities  such as locating the third checkbox on the page.\n",
    "\n",
    "One of the main reasons for using XPath is when you don’t have a suitable id or name attribute\n",
    "for  the element you wish to locate. You can use XPath to either locate the element in absolute\n",
    "terms (not advised), or relative to an element that does have an id or name attribute. XPath\n",
    "locators can also be used to specify elements via attributes other than id and name.\n",
    "\n",
    "Absolute XPaths contain the location of all elements from the root (HTML) and as a result are\n",
    "likely to fail with only the slightest adjustment to the application. By finding a nearby element\n",
    "  with an id or name attribute (ideally a parent element) you can locate your target element\n",
    "  based  on the relationship. This is much less likely to change and can make your tests more\n",
    "  robust.\n",
    "\n",
    "The first element that needs to be found is the button that contains the \"Start Active Players\"\n",
    "text. We can find the XPATH by inspecting the element. This button, when clicked, loads a popup\n",
    "which we will need to perform another action on. Once the initial button is clicked, we delay the\n",
    "execution of a system slightly to allow for new elements to load and populate the HTML."
   ],
   "metadata": {
    "collapsed": false,
    "pycharm": {
     "name": "#%% md\n",
     "is_executing": true
    }
   },
   "outputs": [
    {
     "ename": "SyntaxError",
     "evalue": "invalid syntax (<ipython-input-13-90da061cf3f3>, line 2)",
     "output_type": "error",
     "traceback": [
      "\u001B[1;36m  File \u001B[1;32m\"<ipython-input-13-90da061cf3f3>\"\u001B[1;36m, line \u001B[1;32m2\u001B[0m\n\u001B[1;33m    There are many ways to find an element on a page using selenium, all require some basic\u001B[0m\n\u001B[1;37m          ^\u001B[0m\n\u001B[1;31mSyntaxError\u001B[0m\u001B[1;31m:\u001B[0m invalid syntax\n"
     ]
    }
   ]
  },
  {
   "cell_type": "code",
   "execution_count": 11,
   "outputs": [],
   "source": [
    "# Click \"Start Active Players\" button\n",
    "START_ACTIVE_PLAYERS_BUTTON_XPATH_TEXT = \"//*[(text()='Start Active Players')]\"\n",
    "\n",
    "# Find and click\n",
    "start_active_players_button = driver.find_element_by_xpath(START_ACTIVE_PLAYERS_BUTTON_XPATH_TEXT)\n",
    "start_active_players_button.click()\n",
    "time.sleep(1)"
   ],
   "metadata": {
    "collapsed": false,
    "pycharm": {
     "name": "#%%\n"
    }
   }
  },
  {
   "cell_type": "markdown",
   "source": [
    "<img src=\"http://drive.google.com/uc?export=view&id=166BW20jWjch4RVLEI_5gCFDbz64_Vc8a\" />"
   ],
   "metadata": {
    "collapsed": false,
    "pycharm": {
     "name": "#%% md\n"
    }
   }
  },
  {
   "cell_type": "code",
   "execution_count": 12,
   "outputs": [],
   "source": [
    "# Click \"Rest of Week Start\" button\n",
    "REST_OF_WEEK_START_BUTTON_XPATH_TEXT = \"//*[(text()='Start')]\"\n",
    "\n",
    "# Find and click\n",
    "start_rest_of_week_button = driver.find_element_by_xpath(REST_OF_WEEK_START_BUTTON_XPATH_TEXT)\n",
    "start_rest_of_week_button.click()"
   ],
   "metadata": {
    "collapsed": false,
    "pycharm": {
     "name": "#%%\n"
    }
   }
  },
  {
   "cell_type": "markdown",
   "source": [
    "<img src=\"http://drive.google.com/uc?export=view&id=1gaAK0Ea9OmGc5wIuiWll7FvHk3dO0leT\" />"
   ],
   "metadata": {
    "collapsed": false,
    "pycharm": {
     "name": "#%% md\n"
    }
   }
  },
  {
   "cell_type": "markdown",
   "source": [
    "Following the successful player activation message the driver and window are closed. The Python\n",
    "logic works and this process must now be optimised so that it can automatically be executed daily\n",
    " using Windows Task Scheduler."
   ],
   "metadata": {
    "collapsed": false,
    "pycharm": {
     "name": "#%% md\n"
    }
   }
  },
  {
   "cell_type": "markdown",
   "source": [
    "## Python Script"
   ],
   "metadata": {
    "collapsed": false
   }
  },
  {
   "cell_type": "code",
   "execution_count": 36,
   "outputs": [],
   "source": [
    "# Sleep time (seconds)\n",
    "\n",
    "def open_yahoo_my_team():\n",
    "    \"\"\"\n",
    "    Function opens the Yahoo \"My Team\" web page. ChromeDriver options are loaded which facilitate\n",
    "    the Yahoo login. The driver is returned.\n",
    "    :return driver: ChromeDriver used to open Yahoo session\n",
    "    \"\"\"\n",
    "    # Load Profile\n",
    "    options = webdriver.ChromeOptions()\n",
    "\n",
    "    # Load Chrome profile and download directory\n",
    "    options.add_argument(CHROME_USER_DATA_DIRECTORY_ARGUMENT)\n",
    "    options.add_argument(CHROME_DISABLE_NOTIFICATION_ARGUMENT)\n",
    "\n",
    "    # Chrome with profile\n",
    "    driver = Chrome(CHROME_EXECUTABLE_PATH, chrome_options = options)\n",
    "\n",
    "    driver.get(MY_TEAM_URL)\n",
    "    time.sleep(SLEEP_SECONDS)\n",
    "\n",
    "    return driver\n",
    "\n",
    "def click_button_yahoo_my_team(driver, button_xpath_text):\n",
    "    \"\"\"\n",
    "    Function finds a webelement by XPATH and automatically clicks it.\n",
    "    :param driver: ChromeDriver used to open Yahoo session\n",
    "    :param button_xpath_text: XPATH of desired element\n",
    "    :return driver: ChromeDriver used to open Yahoo session\n",
    "    \"\"\"\n",
    "    webelement_button = driver.find_element_by_xpath(button_xpath_text)\n",
    "    webelement_button.click()\n",
    "    time.sleep(SLEEP_SECONDS)\n",
    "\n",
    "    return driver"
   ],
   "metadata": {
    "collapsed": false,
    "pycharm": {
     "name": "#%%\n"
    }
   }
  },
  {
   "cell_type": "code",
   "execution_count": 40,
   "outputs": [
    {
     "name": "stderr",
     "output_type": "stream",
     "text": [
      "<ipython-input-36-b2b85705d337>:17: DeprecationWarning: use options instead of chrome_options\n",
      "  driver = Chrome(CHROME_EXECUTABLE_PATH, chrome_options = options)\n"
     ]
    }
   ],
   "source": [
    "# Combining the functions\n",
    "def set_daily_yahoo_lineups():\n",
    "    \"\"\"\n",
    "    Function ties the entire process. It first logins to Yahoo via a ChromeDriver. It then finds\n",
    "    the buttons required to be clicked to activate starting players.\n",
    "    :return: None\n",
    "    \"\"\"\n",
    "    driver = open_yahoo_my_team()\n",
    "    click_button_yahoo_my_team(driver, START_ACTIVE_PLAYERS_BUTTON_XPATH_TEXT)\n",
    "    click_button_yahoo_my_team(driver, REST_OF_WEEK_START_BUTTON_XPATH_TEXT)\n",
    "\n",
    "    return None\n",
    "\n",
    "# Testing the function\n",
    "set_daily_yahoo_lineups()"
   ],
   "metadata": {
    "collapsed": false,
    "pycharm": {
     "name": "#%%\n"
    }
   }
  },
  {
   "cell_type": "markdown",
   "source": [
    "### Windows Task Scheduler\n",
    "Task Scheduler is a component of Microsoft Windows that provides the ability to schedule the\n",
    "launch  of programs or scripts at pre-defined times or after specified time intervals: job\n",
    "scheduling. The tools used to create and run virtually any task automatically. Typically, the\n",
    "system and certain apps use the scheduler to automate maintenance tasks (such as disk\n",
    "defragmentation, disk cleanup, and updates), but anyone user can run it. With this experience,\n",
    "can  start applications, run commands, and execute scripts at a particular day and time, or\n",
    "you can also trigger tasks when a specific event occurs.\n",
    "\n",
    "Task Scheduler works by keeping tabs of the time and events on your computer and executes the\n",
    "task as soon as the condition is met. This script will be executed at 11am each day."
   ],
   "metadata": {
    "collapsed": false,
    "pycharm": {
     "name": "#%% md\n"
    }
   }
  },
  {
   "cell_type": "markdown",
   "source": [
    "### if \\_\\_name\\_\\_ == \"\\_\\_main\\_\\_\":\n"
   ],
   "metadata": {
    "collapsed": false,
    "pycharm": {
     "name": "#%% md\n"
    }
   }
  },
  {
   "cell_type": "code",
   "execution_count": 42,
   "outputs": [
    {
     "name": "stderr",
     "output_type": "stream",
     "text": [
      "<ipython-input-42-1ad3cae6affb>:28: DeprecationWarning: use options instead of chrome_options\n",
      "  driver = Chrome(CHROME_EXECUTABLE_PATH, chrome_options = options)\n"
     ]
    }
   ],
   "source": [
    "# Putting it all together\n",
    "CHROME_USER_DATA_DIRECTORY_ARGUMENT = r\"user-data-dir=C:\\Users\\Jaume\\AppData\\Local\\Google\\Chrome\" \\\n",
    "                                      r\"\\User Data\\Python\"\n",
    "CHROME_DISABLE_NOTIFICATION_ARGUMENT = \"--disable-notifications\"\n",
    "CHROME_EXECUTABLE_PATH =  r\"C:\\Users\\Jaume\\Documents\\Python \" \\\n",
    "                          r\"Projects\\yahoo_fantasy_lineups\\chromedriver.exe\"\n",
    "\n",
    "MY_TEAM_URL = \"https://basketball.fantasysports.yahoo.com/nba/55374/6\"\n",
    "\n",
    "SLEEP_SECONDS = 1\n",
    "\n",
    "START_ACTIVE_PLAYERS_BUTTON_XPATH_TEXT = \"//*[(text()='Start Active Players')]\"\n",
    "REST_OF_WEEK_START_BUTTON_XPATH_TEXT = \"//*[(text()='Start')]\"\n",
    "\n",
    "\n",
    "def open_yahoo_my_team():\n",
    "    \"\"\"\n",
    "    Function opens the Yahoo \"My Team\" web page. ChromeDriver options are loaded which facilitate\n",
    "    the Yahoo login. The driver is returned.\n",
    "    :return driver: ChromeDriver used to open Yahoo session\n",
    "    \"\"\"\n",
    "    # Load Profile\n",
    "    options = webdriver.ChromeOptions()\n",
    "\n",
    "    # Load Chrome profile and download directory\n",
    "    options.add_argument(CHROME_USER_DATA_DIRECTORY_ARGUMENT)\n",
    "    options.add_argument(CHROME_DISABLE_NOTIFICATION_ARGUMENT)\n",
    "\n",
    "    # Chrome with profile\n",
    "    driver = Chrome(CHROME_EXECUTABLE_PATH, chrome_options = options)\n",
    "\n",
    "    driver.get(MY_TEAM_URL)\n",
    "    time.sleep(SLEEP_SECONDS)\n",
    "\n",
    "    return driver\n",
    "\n",
    "\n",
    "def click_button_yahoo_my_team(driver, button_xpath_text):\n",
    "    \"\"\"\n",
    "    Function finds a webelement by XPATH and automatically clicks it.\n",
    "    :param driver: ChromeDriver used to open Yahoo session\n",
    "    :param button_xpath_text: XPATH of desired element\n",
    "    :return driver: ChromeDriver used to open Yahoo session\n",
    "    \"\"\"\n",
    "    webelement_button = driver.find_element_by_xpath(button_xpath_text)\n",
    "    webelement_button.click()\n",
    "    time.sleep(SLEEP_SECONDS)\n",
    "\n",
    "    return driver\n",
    "\n",
    "\n",
    "def set_daily_yahoo_lineups():\n",
    "    \"\"\"\n",
    "    Function ties the entire process. It first logins to Yahoo via a ChromeDriver. It then finds\n",
    "    the buttons required to be clicked to activate starting players.\n",
    "    :return: None\n",
    "    \"\"\"\n",
    "    driver = open_yahoo_my_team()\n",
    "    click_button_yahoo_my_team(driver, START_ACTIVE_PLAYERS_BUTTON_XPATH_TEXT)\n",
    "    click_button_yahoo_my_team(driver, REST_OF_WEEK_START_BUTTON_XPATH_TEXT)\n",
    "\n",
    "    return None\n",
    "\n",
    "\n",
    "if __name__ == \"__main__\":\n",
    "    driver = open_yahoo_my_team()\n",
    "    click_button_yahoo_my_team(driver, START_ACTIVE_PLAYERS_BUTTON_XPATH_TEXT)\n",
    "    click_button_yahoo_my_team(driver, REST_OF_WEEK_START_BUTTON_XPATH_TEXT)\n"
   ],
   "metadata": {
    "collapsed": false,
    "pycharm": {
     "name": "#%%\n"
    }
   }
  }
 ],
 "metadata": {
  "kernelspec": {
   "display_name": "Python 3",
   "language": "python",
   "name": "python3"
  },
  "language_info": {
   "codemirror_mode": {
    "name": "ipython",
    "version": 2
   },
   "file_extension": ".py",
   "mimetype": "text/x-python",
   "name": "python",
   "nbconvert_exporter": "python",
   "pygments_lexer": "ipython2",
   "version": "2.7.6"
  }
 },
 "nbformat": 4,
 "nbformat_minor": 0
}